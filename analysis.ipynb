{
 "cells": [
  {
   "cell_type": "code",
   "execution_count": 5,
   "metadata": {},
   "outputs": [
    {
     "name": "stdout",
     "output_type": "stream",
     "text": [
      "gop\n",
      "<class 'ankipandas.ankidf.AnkiDataFrame'>\n"
     ]
    }
   ],
   "source": [
    "from ankipandas import Collection \n",
    "import pandas as pd\n",
    "import os\n",
    "my_coll=Collection()\n",
    "print(\"gop\")    \n",
    "print(type(my_coll.cards))\n",
    "# my_coll.cards.to_csv(\"cards_data.csv\")\n",
    "my_coll.notes.to_csv(\"notes_data.csv\")\n",
    "    "
   ]
  }
 ],
 "metadata": {
  "kernelspec": {
   "display_name": "ankiaddon",
   "language": "python",
   "name": "python3"
  },
  "language_info": {
   "codemirror_mode": {
    "name": "ipython",
    "version": 3
   },
   "file_extension": ".py",
   "mimetype": "text/x-python",
   "name": "python",
   "nbconvert_exporter": "python",
   "pygments_lexer": "ipython3",
   "version": "3.8.12"
  },
  "orig_nbformat": 4
 },
 "nbformat": 4,
 "nbformat_minor": 2
}
