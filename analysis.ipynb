{
 "cells": [
  {
   "cell_type": "code",
   "execution_count": 2,
   "metadata": {},
   "outputs": [
    {
     "name": "stderr",
     "output_type": "stream",
     "text": [
      "\u001b[32mINFO: Searching for database. This might take some time. You can speed this up by specifying a search path or directly entering the path to your database.\u001b[0m\n",
      "\u001b[33mWARNING: The search will stop at the first hit, so please verify that the result is correct (for example in case there might be more than one Anki installation)\u001b[0m\n"
     ]
    },
    {
     "name": "stdout",
     "output_type": "stream",
     "text": [
      "gop\n",
      "<class 'ankipandas.ankidf.AnkiDataFrame'>\n"
     ]
    }
   ],
   "source": [
    "from ankipandas import Collection \n",
    "import pandas as pd\n",
    "import os\n",
    "my_coll=Collection()\n",
    "print(\"gop\")    \n",
    "print(type(my_coll.cards))\n",
    "my_coll.cards.to_csv(\"cards_data.csv\", encoding=\"utf8\")\n",
    "my_coll.notes.to_csv(\"notes_data.csv\",encoding=\"utf8\")\n",
    "my_coll.cards=my_coll.cards.merge_notes()\n",
    "my_coll.cards.to_csv(\"cards_all_data.csv\",encoding=\"utf8\")\n",
    "# my_coll.cards.\n",
    "    "
   ]
  },
  {
   "cell_type": "markdown",
   "metadata": {},
   "source": []
  },
  {
   "cell_type": "code",
   "execution_count": 36,
   "metadata": {},
   "outputs": [
    {
     "name": "stdout",
     "output_type": "stream",
     "text": [
      "                             cdeck     0\n",
      "0                  daily knowledge  4271\n",
      "1              Englisch Wortschatz  2617\n",
      "2                            Kunst  1192\n",
      "3   US States, Locations, Capitals   662\n",
      "4                            Mathe   393\n",
      "..                             ...   ...\n",
      "90                        Standard     2\n",
      "91                       Parisisch     2\n",
      "92                    Mathe\u001fPapers     2\n",
      "93         Englisch Wortschatz Neu     2\n",
      "94      japanisch\u001fnichtjyoyokanjis     1\n",
      "\n",
      "[95 rows x 2 columns]\n"
     ]
    },
    {
     "data": {
      "text/html": [
       "<div>\n",
       "<style scoped>\n",
       "    .dataframe tbody tr th:only-of-type {\n",
       "        vertical-align: middle;\n",
       "    }\n",
       "\n",
       "    .dataframe tbody tr th {\n",
       "        vertical-align: top;\n",
       "    }\n",
       "\n",
       "    .dataframe thead th {\n",
       "        text-align: right;\n",
       "    }\n",
       "</style>\n",
       "<table border=\"1\" class=\"dataframe\">\n",
       "  <thead>\n",
       "    <tr style=\"text-align: right;\">\n",
       "      <th></th>\n",
       "      <th>cdeck</th>\n",
       "      <th>0_x</th>\n",
       "      <th>0_y</th>\n",
       "    </tr>\n",
       "  </thead>\n",
       "  <tbody>\n",
       "    <tr>\n",
       "      <th>0</th>\n",
       "      <td>daily knowledge</td>\n",
       "      <td>4271</td>\n",
       "      <td>8.0</td>\n",
       "    </tr>\n",
       "    <tr>\n",
       "      <th>1</th>\n",
       "      <td>Englisch Wortschatz</td>\n",
       "      <td>2617</td>\n",
       "      <td>84.0</td>\n",
       "    </tr>\n",
       "    <tr>\n",
       "      <th>2</th>\n",
       "      <td>Kunst</td>\n",
       "      <td>1192</td>\n",
       "      <td>6.0</td>\n",
       "    </tr>\n",
       "    <tr>\n",
       "      <th>3</th>\n",
       "      <td>US States, Locations, Capitals</td>\n",
       "      <td>662</td>\n",
       "      <td>NaN</td>\n",
       "    </tr>\n",
       "    <tr>\n",
       "      <th>4</th>\n",
       "      <td>Mathe</td>\n",
       "      <td>393</td>\n",
       "      <td>NaN</td>\n",
       "    </tr>\n",
       "    <tr>\n",
       "      <th>...</th>\n",
       "      <td>...</td>\n",
       "      <td>...</td>\n",
       "      <td>...</td>\n",
       "    </tr>\n",
       "    <tr>\n",
       "      <th>90</th>\n",
       "      <td>Standard</td>\n",
       "      <td>2</td>\n",
       "      <td>NaN</td>\n",
       "    </tr>\n",
       "    <tr>\n",
       "      <th>91</th>\n",
       "      <td>Parisisch</td>\n",
       "      <td>2</td>\n",
       "      <td>NaN</td>\n",
       "    </tr>\n",
       "    <tr>\n",
       "      <th>92</th>\n",
       "      <td>Mathe\u001fPapers</td>\n",
       "      <td>2</td>\n",
       "      <td>NaN</td>\n",
       "    </tr>\n",
       "    <tr>\n",
       "      <th>93</th>\n",
       "      <td>Englisch Wortschatz Neu</td>\n",
       "      <td>2</td>\n",
       "      <td>NaN</td>\n",
       "    </tr>\n",
       "    <tr>\n",
       "      <th>94</th>\n",
       "      <td>japanisch\u001fnichtjyoyokanjis</td>\n",
       "      <td>1</td>\n",
       "      <td>NaN</td>\n",
       "    </tr>\n",
       "  </tbody>\n",
       "</table>\n",
       "<p>95 rows × 3 columns</p>\n",
       "</div>"
      ],
      "text/plain": [
       "                             cdeck   0_x   0_y\n",
       "0                  daily knowledge  4271   8.0\n",
       "1              Englisch Wortschatz  2617  84.0\n",
       "2                            Kunst  1192   6.0\n",
       "3   US States, Locations, Capitals   662   NaN\n",
       "4                            Mathe   393   NaN\n",
       "..                             ...   ...   ...\n",
       "90                        Standard     2   NaN\n",
       "91                       Parisisch     2   NaN\n",
       "92                    Mathe\u001fPapers     2   NaN\n",
       "93         Englisch Wortschatz Neu     2   NaN\n",
       "94      japanisch\u001fnichtjyoyokanjis     1   NaN\n",
       "\n",
       "[95 rows x 3 columns]"
      ]
     },
     "execution_count": 36,
     "metadata": {},
     "output_type": "execute_result"
    }
   ],
   "source": [
    "import matplotlib.pyplot as plt\n",
    "\n",
    "df_cards = my_coll.cards.copy()\n",
    "\n",
    "df_cards2 = my_coll.cards[my_coll.cards.has_tag(\"leech\")]\n",
    "\n",
    "count2 = df_cards2.value_counts(\"cdeck\")\n",
    "count1 = df_cards.value_counts(\"cdeck\")\n",
    "\n",
    "# print(count1)\n",
    "count1=count1.to_frame().reset_index()\n",
    "count2=count2.to_frame().reset_index()\n",
    "print(count1)\n",
    "\n",
    "# df1=pd.DataFrame(count1)\n",
    "# df2=pd.DataFrame(count2)\n",
    "# print(type(df2))\n",
    "# print(df1)\n",
    "count1.merge(count2,on=\"cdeck\",how=\"left\")\n"
   ]
  },
  {
   "cell_type": "code",
   "execution_count": null,
   "metadata": {},
   "outputs": [],
   "source": []
  }
 ],
 "metadata": {
  "kernelspec": {
   "display_name": "ankiaddon",
   "language": "python",
   "name": "python3"
  },
  "language_info": {
   "codemirror_mode": {
    "name": "ipython",
    "version": 3
   },
   "file_extension": ".py",
   "mimetype": "text/x-python",
   "name": "python",
   "nbconvert_exporter": "python",
   "pygments_lexer": "ipython3",
   "version": "3.8.12"
  },
  "orig_nbformat": 4
 },
 "nbformat": 4,
 "nbformat_minor": 2
}
