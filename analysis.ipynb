{
 "cells": [
  {
   "cell_type": "code",
   "execution_count": 2,
   "metadata": {},
   "outputs": [
    {
     "name": "stdout",
     "output_type": "stream",
     "text": [
      "gop\n",
      "                         nid  cord        cmod  cusn     ctype     cqueue  \\\n",
      "cid                                                                         \n",
      "1292381855590  1292381855590     0  1669661744  2023   relearn        due   \n",
      "1292381855591  1292381855590     2  1660388390  1606  learning  suspended   \n",
      "1292381855592  1292381855590     4  1660388422  1606  learning  suspended   \n",
      "1292381855593  1292381855590     6  1663542722  1783    review  suspended   \n",
      "1292381855594  1292381855590     5  1660388440  1606  learning  suspended   \n",
      "...                      ...   ...         ...   ...       ...        ...   \n",
      "1682438623832  1682438623832     0  1682438623  2465  learning        new   \n",
      "1682441756002  1682441756001     0  1682441756  2465  learning        new   \n",
      "1682443450362  1682443450362     0  1682443450  2465  learning        new   \n",
      "1682443658645  1682443658645     1  1682443658  2465  learning        new   \n",
      "1682443658646  1682443658645     0  1682443658  2465  learning        new   \n",
      "\n",
      "               cdue  civl  cfactor  creps  clapses  cleft  codue  \\\n",
      "cid                                                                \n",
      "1292381855590   919   157     2500      8        0   1001      0   \n",
      "1292381855591    20     0     2500      0        0      0      0   \n",
      "1292381855592    20     0     2500      0        0      0      0   \n",
      "1292381855593   685     0     2500      2        0   1001      0   \n",
      "1292381855594    20     0     2500      0        0      0      0   \n",
      "...             ...   ...      ...    ...      ...    ...    ...   \n",
      "1682438623832  3783     0        0      0        0      0      0   \n",
      "1682441756002  5166     0        0      0        0      0      0   \n",
      "1682443450362  5363     0        0      0        0      0      0   \n",
      "1682443658645  7253     0        0      0        0      0      0   \n",
      "1682443658646  7253     0        0      0        0      0      0   \n",
      "\n",
      "                                                         cdeck codeck  \n",
      "cid                                                                    \n",
      "1292381855590                   US States, Locations, Capitals         \n",
      "1292381855591                   US States, Locations, Capitals         \n",
      "1292381855592                   US States, Locations, Capitals         \n",
      "1292381855593                   US States, Locations, Capitals         \n",
      "1292381855594                   US States, Locations, Capitals         \n",
      "...                                                        ...    ...  \n",
      "1682438623832  daily knowledge\u001fWir werden Informatiker\u001fMongoDB         \n",
      "1682441756002  daily knowledge\u001fWir werden Informatiker\u001fMongoDB         \n",
      "1682443450362  daily knowledge\u001fWir werden Informatiker\u001fMongoDB         \n",
      "1682443658645  daily knowledge\u001fWir werden Informatiker\u001fMongoDB         \n",
      "1682443658646  daily knowledge\u001fWir werden Informatiker\u001fMongoDB         \n",
      "\n",
      "[14732 rows x 15 columns]\n"
     ]
    }
   ],
   "source": [
    "from ankipandas import Collection \n",
    "import os\n",
    "my_coll=Collection()\n",
    "print(\"gop\")    \n",
    "print(typeof(my_coll.cards))"
   ]
  }
 ],
 "metadata": {
  "kernelspec": {
   "display_name": "ankiaddon",
   "language": "python",
   "name": "python3"
  },
  "language_info": {
   "codemirror_mode": {
    "name": "ipython",
    "version": 3
   },
   "file_extension": ".py",
   "mimetype": "text/x-python",
   "name": "python",
   "nbconvert_exporter": "python",
   "pygments_lexer": "ipython3",
   "version": "3.8.12"
  },
  "orig_nbformat": 4
 },
 "nbformat": 4,
 "nbformat_minor": 2
}
